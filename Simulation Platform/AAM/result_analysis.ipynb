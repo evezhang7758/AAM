{
 "cells": [
  {
   "cell_type": "code",
   "execution_count": 1,
   "metadata": {},
   "outputs": [
    {
     "name": "stdout",
     "output_type": "stream",
     "text": [
      "60.0\n"
     ]
    }
   ],
   "source": [
    "import matplotlib.pyplot as plt\n",
    "import pandas as pd\n",
    "import numpy as np\n",
    "from setup import *\n",
    "from initialization import *\n",
    "from simulationPlatform import *"
   ]
  },
  {
   "cell_type": "code",
   "execution_count": 2,
   "metadata": {},
   "outputs": [],
   "source": [
    "svdList, usvdList, stat_evtols, stat_stage, stat_takeoff, stat_land = main(uid, seed1, seed2, startTime)"
   ]
  },
  {
   "cell_type": "code",
   "execution_count": 3,
   "metadata": {},
   "outputs": [
    {
     "name": "stdout",
     "output_type": "stream",
     "text": [
      "被served的乘客总数量：4272\n",
      "没被served的乘客总数量：2012\n"
     ]
    }
   ],
   "source": [
    "totalsvd = 0\n",
    "for i in svdList:\n",
    "    totalsvd += len(svdList[i])\n",
    "print(\"被served的乘客总数量：\" + str(totalsvd))\n",
    "\n",
    "totalusvd = 0\n",
    "for i in usvdList:\n",
    "    totalusvd += len(usvdList[i])\n",
    "print(\"没被served的乘客总数量：\" + str(totalusvd))"
   ]
  },
  {
   "cell_type": "code",
   "execution_count": 4,
   "metadata": {},
   "outputs": [],
   "source": [
    "# # collection user data during runtime for model simulation\n",
    "\n",
    "# data = {'uid': user_id, \n",
    "#         'vid': user_vid, \n",
    "#         'eid': user_eid, \n",
    "#         'waitTimeForEvtol': outOfVehicleWait,\n",
    "#         'waitTimeForOther': inVehicleWait,\n",
    "#         }\n",
    "# df = pd.DataFrame(data)\n",
    "\n",
    "# # write dataFrame to excel\n",
    "# df.to_excel('../outputs/userinfo.xlsx')"
   ]
  },
  {
   "attachments": {},
   "cell_type": "markdown",
   "metadata": {},
   "source": []
  },
  {
   "cell_type": "code",
   "execution_count": 5,
   "metadata": {},
   "outputs": [],
   "source": [
    "# # 折线图：stage，tlof和evtol之间的关系\n",
    "\n",
    "# plt.figure(figsize=(10,5))\n",
    "# plt.title('Vertiport-' + str(2))\n",
    "# plt.xlabel('Time(min)')\n",
    "# plt.ylabel(\"Number\")\n",
    "# plt.plot(stat_stage[2],'-',color='green',label=\"Available Stage Pads\")\n",
    "# plt.plot(stat_evtols[2],'-',label=\"Available Evtols\")\n",
    "# plt.legend(loc=1)\n",
    "# plt.yticks(np.arange(0, 18, step=2))\n"
   ]
  },
  {
   "cell_type": "code",
   "execution_count": 6,
   "metadata": {},
   "outputs": [],
   "source": [
    "# # 折线图：stage，tlof和evtol之间的关系\n",
    "\n",
    "# for i in vertiportList:\n",
    "#     plt.figure(figsize=(10,5))\n",
    "#     plt.title('Vertiport-' + str(i))\n",
    "#     plt.xlabel('Time(min)')\n",
    "#     plt.ylabel(\"Number\")\n",
    "#     plt.plot(stat_stage[i],'-', color='green', label=\"Available Stage Pads\")\n",
    "#     plt.plot(stat_evtols[i],'-', label=\"Available Evtols\")\n",
    "#     # plt.plot(stat_takeoff[i], '-', color='gold', label=\"Available Takeoff Pad\")\n",
    "#     # plt.plot(stat_land[i], '-', color='grey', label=\"Available Land Pad\")\n",
    "#     plt.legend(loc=1)\n",
    "#     plt.yticks(np.arange(0, 18, step=2))"
   ]
  },
  {
   "cell_type": "code",
   "execution_count": 7,
   "metadata": {},
   "outputs": [],
   "source": [
    "# # 柱状图: 每个vertiport的需求量和served的人数的对比\n",
    "\n",
    "# '''调整图窗大小'''\n",
    "# params = {\n",
    "#     'figure.figsize': '15, 8'\n",
    "# }\n",
    "# plt.rcParams.update(params)\n",
    "# '''调整图窗大小'''\n",
    "\n",
    "# x = vertiportList\n",
    "# y1 = demand\n",
    "# y2 = [len(svdList[i]) for i in svdList]\n",
    "# X_axis = np.arange(len(x))  # the label locations\n",
    "\n",
    "# fig, ax = plt.subplots()\n",
    "# total = plt.bar(X_axis - 0.2, y1, 0.4, label='total passengers: 6284')  # 0.4是bar的宽度\n",
    "# served = plt.bar(X_axis + 0.2, y2, 0.4, label='total served passengers: ' + str(totalsvd))\n",
    "\n",
    "# ax.set_ylabel('Number of Passengers', fontweight='bold')\n",
    "# ax.set_xlabel('Vertiport Index', fontweight='bold')\n",
    "# ax.set_title(\"Demands and Number of Served User in Vertiports\\n (Time_slot = 10 min)\", fontweight='bold', fontsize=18)\n",
    "# ax.set_xticks(X_axis, x)\n",
    "# ax.legend(loc=5)\n",
    "\n",
    "# # 显示数据标签\n",
    "# for a,b in zip(range(0, 30), y1):\n",
    "#     plt.text(a-0.2,b,\n",
    "#              b,\n",
    "#              ha='center', \n",
    "#              va='bottom',\n",
    "#             )\n",
    "# for a,b in zip(range(0, 30), y2):\n",
    "#     plt.text(a,b,\n",
    "#              b,\n",
    "#              ha='left', \n",
    "#              va='bottom',\n",
    "#             )\n",
    "\n",
    "# # 边框隐藏\n",
    "# ax.spines['top'].set_visible(False)\n",
    "# ax.spines['right'].set_visible(False)\n",
    "# # ax.spines['bottom'].set_visible(False)\n",
    "# # ax.spines['left'].set_visible(False)\n",
    "\n",
    "# fig.tight_layout()\n",
    "# plt.show()"
   ]
  },
  {
   "cell_type": "code",
   "execution_count": 8,
   "metadata": {},
   "outputs": [],
   "source": [
    "# # 折线图: 每个vertiport的起始资源\n",
    "# fig, ax = plt.subplots(figsize=(10,5))\n",
    "# plt.title('30 vertiports capacities', fontweight='bold')\n",
    "# plt.xlabel('vertiport index', fontweight='bold')\n",
    "# plt.ylabel(\"Number\", fontweight='bold')\n",
    "# plt.plot(range(1, 31), stageList,'-',label=\"stage\")\n",
    "# plt.plot(range(1, 31), tlofList, '-', color='grey', label='tlof')\n",
    "# plt.plot(range(1, 31), evsList,'-',color='r',label=\"evtol\")\n",
    "\n",
    "# ax.set_xticks(range(1, 31), range(1, 31))  # 设置横坐标的刻度\n",
    "# ax.legend()\n",
    "\n",
    "# fig.tight_layout()\n",
    "# plt.show()"
   ]
  },
  {
   "cell_type": "code",
   "execution_count": 9,
   "metadata": {},
   "outputs": [],
   "source": [
    "# # 用evtol等待stage和tlof的时间来帮助分析不同scenario的性能差异\n",
    "\n",
    "# # evtol在起飞和降落时，等待空闲tlof的时间\n",
    "# totalWaitTimeForTLOF = 0\n",
    "# for i in vertiportMap:\n",
    "#     totalWaitTimeForTLOF += sum(np.sum([waitsForTakeOff[i], waitsForLand[i]], axis = 0))   # 30个vertiport等待tlof的总时间\n",
    "#     # print(str(i) + \": \" + str(sum(np.sum([waitsForTaxiOut[i], waitsForLand[i]], axis = 0))))   # 每个vertiport等待tlof的时间\n",
    "# print(\"tlof的总等待时间：\" + str(totalWaitTimeForTLOF))\n",
    "\n",
    "# # evtol在到达目的地时，等待空闲stage的时间\n",
    "# totalWaitTimeForStage = 0\n",
    "# for i in vertiportMap:\n",
    "#     totalWaitTimeForStage += sum(waitsForUnload[i])   # 30个vertiport等待stage的总时间\n",
    "#     # print(str(i) + \", \" + str(waitsForLand[i]))   # 每个vertiport等待stage的时间\n",
    "# print(\"stage的总等待时间：\" + str(totalWaitTimeForStage))"
   ]
  },
  {
   "cell_type": "code",
   "execution_count": 10,
   "metadata": {},
   "outputs": [],
   "source": [
    "# # 分析用户在不同阶段的等待时间：\n",
    "\n",
    "# waitInVehicle_list = [u.waitInVehicle - u.waitTaxiOut for i in served_users for u in served_users[i]]\n",
    "# waitOutOfVehicle_list = [u.waitOutOfVehicle for i in served_users for u in served_users[i]]\n",
    "# holdInLoad_list = [u.waitTaxiOut for i in served_users for u in served_users[i] if u.waitTaxiOut > 0]\n",
    "# holdInCruise_list = [u.waitLand for i in served_users for u in served_users[i] if u.waitLand > 0]\n",
    "# holdInLand_list = [u.waitTaxiIn for i in served_users for u in served_users[i] if u.waitTaxiIn > 0]\n",
    "\n",
    "        \n",
    "# n, bins, patches = plt.hist(waitInVehicle_list, 10, facecolor='g', alpha=0.75)\n",
    "# plt.xlabel('Waiting time (min)')\n",
    "# plt.ylabel('Number of Passengers')\n",
    "# plt.title(str(len(waitInVehicle_list)) + \" Passengers' in-vehicle Waiting Time\", fontweight='bold')\n",
    "# plt.show()\n",
    "\n",
    "# n, bins, patches = plt.hist(waitOutOfVehicle_list, 10,facecolor='g', alpha=0.75)\n",
    "# plt.xlabel('Waiting time (min)')\n",
    "# plt.ylabel('Number of Passengers')\n",
    "# plt.title(str(len(waitOutOfVehicle_list)) + \" Passengers' out-of-Vehicle Waiting Time\", fontweight='bold')\n",
    "# plt.show()\n",
    "\n",
    "# n, bins, patches = plt.hist(holdInLoad_list, 10, facecolor='g', alpha=0.75)\n",
    "# plt.xlabel('Holding time (min)')\n",
    "# plt.ylabel('Number of Passengers')\n",
    "# plt.title(str(len(holdInLoad_list))+\" Passengers' taxi-out holding time\", fontweight='bold')\n",
    "# plt.xlim([0,5])\n",
    "# plt.show()\n",
    "\n",
    "# n, bins, patches = plt.hist(holdInCruise_list, 20, facecolor='g', alpha=0.75)\n",
    "# plt.xlabel('Holding time (min)')\n",
    "# plt.ylabel('Number of Passengers')\n",
    "# plt.title(str(len(holdInCruise_list))+\" Passengers' landing holding time\", fontweight='bold')\n",
    "# # plt.xlim([0,25])\n",
    "# plt.show()\n",
    "\n",
    "# n, bins, patches = plt.hist(holdInLand_list, 10, facecolor='g', alpha=0.75)\n",
    "# plt.xlabel('Holding time (min)')\n",
    "# plt.ylabel('Number of Passengers')\n",
    "# plt.title(str(len(holdInLand_list))+\" Passengers' taxi-in holding time\", fontweight='bold')\n",
    "# plt.show()"
   ]
  },
  {
   "cell_type": "code",
   "execution_count": 11,
   "metadata": {},
   "outputs": [],
   "source": [
    "# # 用户的out-of-verhicle等待时间：\n",
    "\n",
    "# i = 26\n",
    "# test = []\n",
    "# for u in served_users[i]:\n",
    "#     test.append(u.waitOutOfVehicle)\n",
    "# print(len(test))\n",
    "# plt.plot(test)\n",
    "# plt.xlabel('per passenger')\n",
    "# plt.ylabel('out-of-vehicle waiting time (min)')\n",
    "# plt.title('vertiport-' + str(i), fontweight='bold')\n",
    "# # plt.xticks(np.arange(0, 20, step=2))\n",
    "# plt.yticks(np.arange(0, 16, step=2))\n",
    "# plt.xticks(np.arange(0, 3, step=1))"
   ]
  },
  {
   "cell_type": "code",
   "execution_count": 12,
   "metadata": {},
   "outputs": [],
   "source": [
    "# # 用户的land holding time：\n",
    "\n",
    "# i = 7\n",
    "# test = []\n",
    "# for u in served_users[i]:\n",
    "#     test.append(u.waitTaxiIn)\n",
    "# plt.plot(test)\n",
    "# plt.xlabel('per passenger')\n",
    "# plt.ylabel('taxi-in holding waiting time (min)')\n",
    "# plt.title('vertiport-' + str(i), fontweight='bold')\n",
    "# plt.xticks(np.arange(0, 20, step=2))\n",
    "# plt.yticks(np.arange(0, 16, step=2))"
   ]
  },
  {
   "cell_type": "code",
   "execution_count": 13,
   "metadata": {},
   "outputs": [],
   "source": [
    "# # 统计入座率：\n",
    "\n",
    "# sum = 0\n",
    "# total = 0\n",
    "# for i in numOfUser:\n",
    "#     total += len(numOfUser[i])\n",
    "#     for num in numOfUser[i]:\n",
    "#         if num == 4:\n",
    "#             sum += 1\n",
    "# print(total)\n",
    "# print(sum)\n",
    "\n",
    "\n",
    "# plt.title('Vertiport-' + str(26), fontweight='bold')\n",
    "# plt.xlabel('evtols')\n",
    "# plt.ylabel(\"The occupation of an evtol\")\n",
    "# plt.plot(numOfUser[26])"
   ]
  }
 ],
 "metadata": {
  "kernelspec": {
   "display_name": "base",
   "language": "python",
   "name": "python3"
  },
  "language_info": {
   "codemirror_mode": {
    "name": "ipython",
    "version": 3
   },
   "file_extension": ".py",
   "mimetype": "text/x-python",
   "name": "python",
   "nbconvert_exporter": "python",
   "pygments_lexer": "ipython3",
   "version": "3.10.9"
  },
  "orig_nbformat": 4
 },
 "nbformat": 4,
 "nbformat_minor": 2
}
